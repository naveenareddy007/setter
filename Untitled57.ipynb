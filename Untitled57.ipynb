{
 "cells": [
  {
   "cell_type": "code",
   "execution_count": 20,
   "id": "2b1b728b",
   "metadata": {},
   "outputs": [
    {
     "name": "stdout",
     "output_type": "stream",
     "text": [
      "naveena\n",
      "134567\n"
     ]
    }
   ],
   "source": [
    " class student:\n",
    "    def setname(self,name):\n",
    "        self._name=name\n",
    "    def getname(self):\n",
    "        return self._name\n",
    "    def setrollnumber(self,rollnumber):\n",
    "        self._rollnumber=rollnumber\n",
    "    def getrollnumber(self):\n",
    "        return self._rollnumber\n",
    "student1 = student() \n",
    "student1.setname(\"naveena\")\n",
    "student1.setrollnumber(\"134567\")\n",
    "name=student1.getname()\n",
    "rollnumber=student1.getrollnumber()\n",
    "print(name)\n",
    "print(rollnumber)"
   ]
  },
  {
   "cell_type": "code",
   "execution_count": null,
   "id": "b38680e0",
   "metadata": {},
   "outputs": [],
   "source": []
  }
 ],
 "metadata": {
  "kernelspec": {
   "display_name": "Python 3 (ipykernel)",
   "language": "python",
   "name": "python3"
  },
  "language_info": {
   "codemirror_mode": {
    "name": "ipython",
    "version": 3
   },
   "file_extension": ".py",
   "mimetype": "text/x-python",
   "name": "python",
   "nbconvert_exporter": "python",
   "pygments_lexer": "ipython3",
   "version": "3.10.9"
  }
 },
 "nbformat": 4,
 "nbformat_minor": 5
}
